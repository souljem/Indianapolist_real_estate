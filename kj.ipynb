{
 "cells": [
  {
   "cell_type": "code",
   "execution_count": 1,
   "metadata": {},
   "outputs": [],
   "source": [
    "import pandas as pd\n",
    "import numpy as np\n"
   ]
  },
  {
   "cell_type": "code",
   "execution_count": 3,
   "metadata": {},
   "outputs": [
    {
     "name": "stdout",
     "output_type": "stream",
     "text": [
      "                    Stop Name                Neighborhood\n",
      "0                Broad Ripple                Broad Ripple\n",
      "1             Keystone Avenue    Keystone at the Crossing\n",
      "2  University of Indianapolis  University of Indianapolis\n",
      "3                    Downtown                    Downtown\n",
      "4               Market Street             Fountain Square\n",
      "5               Garfield Park               Garfield Park\n",
      "6                 38th Street                 38th Street\n",
      "7     Keystone Avenue (North)    Keystone at the Crossing\n",
      "8                   Northwest                   Northwest\n",
      "9                       Salem                       Salem\n"
     ]
    }
   ],
   "source": [
    "data = [[\"Broad Ripple\", \"Broad Ripple\"],\n",
    "         [\"Keystone Avenue\", \"Keystone at the Crossing\"],\n",
    "         [\"University of Indianapolis\", \"University of Indianapolis\"],\n",
    "         [\"Downtown\", \"Downtown\"],\n",
    "         [\"Market Street\", \"Fountain Square\"],\n",
    "         [\"Garfield Park\", \"Garfield Park\"],\n",
    "         [\"38th Street\", \"38th Street\"],\n",
    "         [\"Keystone Avenue (North)\", \"Keystone at the Crossing\"],\n",
    "         [\"Northwest\", \"Northwest\"],\n",
    "         [\"Salem\", \"Salem\"]]\n",
    "\n",
    "# Create a DataFrame from the list of lists\n",
    "df = pd.DataFrame(data, columns=[\"Stop Name\", \"Neighborhood\"])\n",
    "\n",
    "# Print the DataFrame\n",
    "print(df)\n"
   ]
  },
  {
   "cell_type": "code",
   "execution_count": null,
   "metadata": {},
   "outputs": [],
   "source": [
    "parks = [\"White River State Park\", \"Eagle Creek Park\", \"Holliday Park\", \"Garfield Park\", \"Butler University Gardens\", \"Broad Ripple Park\", \"Military Park\", \"Fall Creek Greenway\", \"Monon Trail\", \"Cultural Trail\"]\n"
   ]
  },
  {
   "cell_type": "code",
   "execution_count": 1,
   "metadata": {},
   "outputs": [
    {
     "name": "stdout",
     "output_type": "stream",
     "text": [
      "THIS IS A TEST OF THE EMERGENCY BROADCAST SYSTEM\n"
     ]
    }
   ],
   "source": [
    "print('THIS IS A TEST OF THE EMERGENCY BROADCAST SYSTEM')"
   ]
  },
  {
   "cell_type": "code",
   "execution_count": null,
   "metadata": {},
   "outputs": [],
   "source": []
  }
 ],
 "metadata": {
  "kernelspec": {
   "display_name": "Python 3",
   "language": "python",
   "name": "python3"
  },
  "language_info": {
   "codemirror_mode": {
    "name": "ipython",
    "version": 3
   },
   "file_extension": ".py",
   "mimetype": "text/x-python",
   "name": "python",
   "nbconvert_exporter": "python",
   "pygments_lexer": "ipython3",
   "version": "3.8.3"
  },
  "toc": {
   "base_numbering": 1,
   "nav_menu": {},
   "number_sections": true,
   "sideBar": true,
   "skip_h1_title": false,
   "title_cell": "Table of Contents",
   "title_sidebar": "Contents",
   "toc_cell": false,
   "toc_position": {},
   "toc_section_display": true,
   "toc_window_display": false
  }
 },
 "nbformat": 4,
 "nbformat_minor": 4
}
